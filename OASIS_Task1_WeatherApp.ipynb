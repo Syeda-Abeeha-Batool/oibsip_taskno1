{
 "cells": [
  {
   "cell_type": "code",
   "execution_count": 15,
   "id": "28f71fe1",
   "metadata": {},
   "outputs": [
    {
     "name": "stdout",
     "output_type": "stream",
     "text": [
      "Enter a city name or ZIP code: Islamabad\n",
      "Weather in  Islamabad\n",
      "Description :  broken clouds\n",
      "Temperature :  23.24\n",
      "Humidity :  37\n"
     ]
    }
   ],
   "source": [
    "import requests\n",
    "\n",
    "def fetch_weather_data(api, location):\n",
    "    try:\n",
    "        url = f\"http://api.openweathermap.org/data/2.5/weather?q={location}&appid={api}&units=metric\"\n",
    "        response = requests.get(url)\n",
    "        response.raise_for_status()\n",
    "        data = response.json()\n",
    "        return data\n",
    "    except requests.exceptions.RequestException as e:\n",
    "        print(\"Error fetching weather data:\", e)\n",
    "        return None\n",
    "\n",
    "def validate_location(location):\n",
    "    if not location:\n",
    "        print(\"Location cannot be empty.\")\n",
    "        return False\n",
    "    return True\n",
    "\n",
    "def display_weather(data):\n",
    "    if data is None:\n",
    "        return\n",
    "\n",
    "    if data.get(\"cod\") == 404:\n",
    "        print(\"City not found. Please check the spelling and try again.\")\n",
    "    else:\n",
    "        city_name = data[\"name\"]\n",
    "        weather = data[\"weather\"][0][\"description\"]\n",
    "        temperature = data[\"main\"][\"temp\"]\n",
    "        humidity = data[\"main\"][\"humidity\"]\n",
    "\n",
    "        print(\"Weather in \", city_name)\n",
    "        print(\"Description : \", weather)\n",
    "        print(\"Temperature : \",temperature)\n",
    "        print(\"Humidity : \", humidity)\n",
    "        \n",
    "\n",
    "api_key = \"4d4ded1b042a91bf9b16f83bccbad7a4\"  # Replace api with your OpenWeatherMap API key\n",
    "location = input(\"Enter a city name or ZIP code: \")\n",
    "validate_location(location)\n",
    "\n",
    "weather_data = fetch_weather_data(api_key, location)\n",
    "display_weather(weather_data)\n"
   ]
  },
  {
   "cell_type": "code",
   "execution_count": null,
   "id": "9981726f",
   "metadata": {},
   "outputs": [],
   "source": []
  }
 ],
 "metadata": {
  "kernelspec": {
   "display_name": "Python 3 (ipykernel)",
   "language": "python",
   "name": "python3"
  },
  "language_info": {
   "codemirror_mode": {
    "name": "ipython",
    "version": 3
   },
   "file_extension": ".py",
   "mimetype": "text/x-python",
   "name": "python",
   "nbconvert_exporter": "python",
   "pygments_lexer": "ipython3",
   "version": "3.10.9"
  }
 },
 "nbformat": 4,
 "nbformat_minor": 5
}
